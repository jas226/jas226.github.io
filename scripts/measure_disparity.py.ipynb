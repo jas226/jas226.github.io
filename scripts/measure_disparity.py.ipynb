{
 "cells": [
  {
   "cell_type": "markdown",
   "metadata": {},
   "source": [
    "1. Inputs\n",
    "\n",
    "(1)  A dataframe with one row per individual. Columns will include:\n",
    "\n",
    "(i)    Model prediction (as a probability)\n",
    "\n",
    "(ii)   Binary outcome (i.e. 0 or 1, where 1 indicates the favorable outcome for the individual being scored)\n",
    "\n",
    "(iii)   Model label\n",
    "\n",
    "(iv)  Sample weights\n",
    "\n",
    "(v)  Demographic data on protected and reference classes\n",
    "\n",
    "2. Outputs\n",
    "\n",
    "(1)  One value per protected class measuring discrimination for each metric used\n",
    "\n",
    "(2)  [Optional] graphics/visualization, useful formatted output\n"
   ]
  },
  {
   "cell_type": "code",
   "execution_count": null,
   "metadata": {},
   "outputs": [],
   "source": []
  }
 ],
 "metadata": {
  "kernelspec": {
   "display_name": "Python 3",
   "language": "python",
   "name": "python3"
  },
  "language_info": {
   "codemirror_mode": {
    "name": "ipython",
    "version": 3
   },
   "file_extension": ".py",
   "mimetype": "text/x-python",
   "name": "python",
   "nbconvert_exporter": "python",
   "pygments_lexer": "ipython3",
   "version": "3.8.5"
  }
 },
 "nbformat": 4,
 "nbformat_minor": 4
}
