{
 "cells": [
  {
   "cell_type": "markdown",
   "metadata": {},
   "source": [
    "“mitigate_disparity.py” takes in a model development dataset (training and test datasets) that your algorithm has not seen before and generates a new, optimally fair/debiased model that can be used to make new predictions.\n",
    "\n",
    "1. Inputs\n",
    "\n",
    "(1) A model development dataset that contains information on:\n",
    "\n",
    "(i)    Model features\n",
    "\n",
    "(ii)   Model label\n",
    "\n",
    "(iii)  Sample weights\n",
    "\n",
    "(iv)  Demographic data on protected and reference classes\n",
    "\n",
    "2. Outputs\n",
    "\n",
    "(1)  The fair/debiased model object, taking the form of a sklearn-style python object with the following functions accessible:\n",
    "\n",
    "(i)    .fit() – trains the model\n",
    "\n",
    "(ii)   .predict() / .predict_proba() – makes predictions using new data\n",
    "\n",
    "(iii)  .transform() – filters or modifies input data, if applicable\n",
    "\n",
    "(2)  [Optional] graphics/visualization, useful formatted output"
   ]
  }
 ],
 "metadata": {
  "kernelspec": {
   "display_name": "Python 3",
   "language": "python",
   "name": "python3"
  },
  "language_info": {
   "codemirror_mode": {
    "name": "ipython",
    "version": 3
   },
   "file_extension": ".py",
   "mimetype": "text/x-python",
   "name": "python",
   "nbconvert_exporter": "python",
   "pygments_lexer": "ipython3",
   "version": "3.8.5"
  }
 },
 "nbformat": 4,
 "nbformat_minor": 4
}
